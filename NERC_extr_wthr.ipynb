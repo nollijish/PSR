{
 "cells": [
  {
   "cell_type": "code",
   "execution_count": null,
   "id": "76d55e33-89ee-4c65-8d81-da7ef56f41ba",
   "metadata": {},
   "outputs": [],
   "source": [
    "import pandas as pd\n",
    "import numpy as np"
   ]
  },
  {
   "cell_type": "code",
   "execution_count": null,
   "id": "1328e8ea-41b0-4c08-86e8-a9102b2a2c5c",
   "metadata": {},
   "outputs": [],
   "source": [
    "# setup lists and dictionaries for repeated use later\n",
    "old_tags = ['1DW.PV','2DW.PV','3DW.PV','WTHR_T_LOWER_F']\n",
    "new_tags = ['901DW.PV','902DW.PV','903DW.PV','41AI117A.PV']\n",
    "all_tags = old_tags + new_tags\n",
    "temp = '41AI117A.PV'\n",
    "tags_dict = dict(zip(new_tags,old_tags))"
   ]
  },
  {
   "cell_type": "code",
   "execution_count": null,
   "id": "872028ce-c6a2-4098-a1af-768a2e011689",
   "metadata": {},
   "outputs": [],
   "source": [
    "%%time\n",
    "# read in the dataframe from the csv\n",
    "# change the filename to whatever is the latest PI datalink pull\n",
    "df = pd.read_csv('https://raw.githubusercontent.com/nollijish/datasets/main/Cogen_wthr_temp_20221006-20000101.csv.gz',\n",
    "                 sep=',',\n",
    "                 parse_dates=['TIMESTAMP'],\n",
    "                 low_memory=False,\n",
    "                 compression='gzip'\n",
    "                )"
   ]
  },
  {
   "cell_type": "code",
   "execution_count": null,
   "id": "3707e66e-81c7-4df1-876e-b154b136665c",
   "metadata": {},
   "outputs": [],
   "source": [
    "# search for all the strings in the process historian that contains bad data\n",
    "mask_badpv = ((df=='No Data')|(df=='Bad Data')|(df=='Bad')\n",
    "              |(df=='Intf Shut')|(df=='Bad Input')\n",
    "              |(df=='I/O Timeout')|(df=='Configure')\n",
    "              |(df=='Scan Off')|(df=='Out of Serv')\n",
    "              |(df=='Comm Fail')\n",
    "             )\n",
    "df[mask_badpv] = np.nan #does work\n",
    "# df.loc[mask_badpv] = np.nan #does not work"
   ]
  },
  {
   "cell_type": "code",
   "execution_count": null,
   "id": "1ba98b96-39c7-4123-8011-dace3296b300",
   "metadata": {},
   "outputs": [],
   "source": [
    "# swap values over from old tags to new tags\n",
    "for k in new_tags:\n",
    "    mask_new = df[k].isna()\n",
    "    val = tags_dict[k]\n",
    "    df.loc[mask_new, k] = df.loc[mask_new, val] # does work\n",
    "    # df[mask_new, k] = df[mask_new, val] #does not work"
   ]
  },
  {
   "cell_type": "code",
   "execution_count": null,
   "id": "ab86156e-8b5f-49ed-b2bd-b4d7129162a0",
   "metadata": {},
   "outputs": [],
   "source": [
    "# cut down to just the needed columns now that they have been combined\n",
    "df = df.drop(columns=old_tags)"
   ]
  },
  {
   "cell_type": "code",
   "execution_count": null,
   "id": "ddd8e6b9-850a-4de3-b404-3c31fc5e0d6b",
   "metadata": {
    "tags": []
   },
   "outputs": [],
   "source": [
    "# remove rows with NaN values in the temperature measurement\n",
    "df = df.dropna(how='any',subset=temp)\n",
    "# remove rows with all NaN values\n",
    "df = df.dropna(how='all',subset=new_tags)"
   ]
  },
  {
   "cell_type": "code",
   "execution_count": null,
   "id": "26e9f775-ccd7-4082-9072-4087101c9f60",
   "metadata": {},
   "outputs": [],
   "source": [
    "# convert all sample values to float (all df columns comes in as objects due to mixed str and float)\n",
    "# new_tags columns mask is being used to avoid converting the timedate column\n",
    "df.loc[:,new_tags] = df.loc[:,new_tags].astype(dtype=np.float64)\n",
    "print(df.dtypes)"
   ]
  },
  {
   "cell_type": "code",
   "execution_count": null,
   "id": "87ce16f3-eb33-4150-9a8c-64de87815bd7",
   "metadata": {},
   "outputs": [],
   "source": [
    "# remove out of tolerance weather values\n",
    "# lowest recorded temperature in Anacortes was 5°F\n",
    "# highest recorded temperature in Anacortes was 98°F\n",
    "# including a 20°F in both directions from the record values\n",
    "mask_temp = ((df[temp]<120.0)\n",
    "             &(df[temp]>-20.0)\n",
    "            )\n",
    "df = df.loc[mask_temp,:]"
   ]
  },
  {
   "cell_type": "code",
   "execution_count": null,
   "id": "4b2f9f11-1f41-4738-998f-faa34207d679",
   "metadata": {},
   "outputs": [],
   "source": [
    "# sort all cases by temperature\n",
    "df = df.sort_values(by=temp).reset_index(drop=True)"
   ]
  },
  {
   "cell_type": "code",
   "execution_count": null,
   "id": "8a0522bd-e9de-4783-87d8-c94e01b93d86",
   "metadata": {},
   "outputs": [],
   "source": [
    "# remove all values for months not December, January, or February for lo temp dataframe\n",
    "mask_month = ((df['TIMESTAMP'].dt.month==12)\n",
    "              |(df['TIMESTAMP'].dt.month==1)\n",
    "              |(df['TIMESTAMP'].dt.month==2)\n",
    "             )\n",
    "df_wint = df.loc[mask_month,:]\n",
    "\n",
    "# print 0.2% percentile value\n",
    "print(df_wint[temp].quantile(q=0.002))"
   ]
  },
  {
   "cell_type": "code",
   "execution_count": null,
   "id": "239eaa36-24a0-492f-bbda-a5e5b00643ec",
   "metadata": {},
   "outputs": [],
   "source": [
    "# spit out low temperature statistics\n",
    "df_wint.describe()"
   ]
  },
  {
   "cell_type": "code",
   "execution_count": null,
   "id": "1548d773-89cc-46c4-ab37-1d07cc9f9eee",
   "metadata": {},
   "outputs": [],
   "source": [
    "# mask to just the < 0.2% percentile\n",
    "mask_lo = ((df_wint[temp]<=df_wint[temp].quantile(q=0.002))\n",
    "             )\n",
    "\n",
    "df_wint_lo = df_wint[mask_lo]"
   ]
  },
  {
   "cell_type": "code",
   "execution_count": null,
   "id": "d2e8b371-638e-4f48-9b32-473aba9cb398",
   "metadata": {},
   "outputs": [],
   "source": [
    "df_wint_lo.to_csv('./lo_perc_temps.csv')"
   ]
  },
  {
   "cell_type": "code",
   "execution_count": null,
   "id": "3a9d8342-bdc4-4d69-8a64-e7f415bdc56d",
   "metadata": {},
   "outputs": [],
   "source": [
    "# create power tags list\n",
    "pwr_tags = [i for i in new_tags if i not in temp]"
   ]
  },
  {
   "cell_type": "code",
   "execution_count": null,
   "id": "56f25698-40e2-4530-b6ee-adcbf86bdd9a",
   "metadata": {},
   "outputs": [],
   "source": [
    "# convert any na generator power output values to 0.0\n",
    "for i in pwr_tags:\n",
    "    mask_na = df_wint_lo[i].isna()\n",
    "    df_wint_lo.loc[mask_na,i] = 0.0"
   ]
  },
  {
   "cell_type": "code",
   "execution_count": null,
   "id": "1e4f0cf5-4961-4e0b-9b18-7fa5a7af36f4",
   "metadata": {},
   "outputs": [],
   "source": [
    "# find all times when the generator was operating < 32MW\n",
    "# the generators will typically operate down to 35MW as determined by economic considerations\n",
    "# the generators are typically not operated below 35MW due to concerns around flame out\n",
    "mask_off = (df_wint_lo[pwr_tags]<=32).any(axis=1)\n",
    "df_wint_lo_off = df_wint_lo[mask_off]"
   ]
  },
  {
   "cell_type": "code",
   "execution_count": null,
   "id": "0bce70a0-97bc-43cd-962d-c854e56408c0",
   "metadata": {},
   "outputs": [],
   "source": [
    "# write output of all times a generator is off or na when below the 0.2% percentile\n",
    "df_wint_lo_off.to_csv('./lo_perc_gen_off.csv')"
   ]
  },
  {
   "cell_type": "code",
   "execution_count": null,
   "id": "72e2188e-bfc2-4f64-809a-29ae878ec57c",
   "metadata": {},
   "outputs": [],
   "source": [
    "# create groupby  object that can segment the lo values together\n",
    "gb_df_td = df_wint_lo.groupby(pd.Grouper(key='TIMESTAMP',\n",
    "                                         freq='D',\n",
    "                                         sort=True,\n",
    "                                        )\n",
    "                             )"
   ]
  },
  {
   "cell_type": "code",
   "execution_count": null,
   "id": "cb61012e-9899-485a-8eed-d1d1cbb3f2a2",
   "metadata": {},
   "outputs": [],
   "source": [
    "mask_gb = gb_df_td.size()>0\n",
    "gb_df_td.size()[mask_gb]"
   ]
  },
  {
   "cell_type": "code",
   "execution_count": null,
   "id": "58e694dc-3a73-43bd-b53d-bc90cffc0173",
   "metadata": {},
   "outputs": [],
   "source": [
    "# just testing some concepts\n",
    "l = []\n",
    "for n, g in gb_df_td:\n",
    "    if ((g.size>0) & (n.year==2004)):\n",
    "        print(type(n))\n",
    "        print(n)\n",
    "        print(type(g))\n",
    "        print(g['901DW.PV'].mean())\n",
    "        l.append(g)\n",
    "df_l = pd.concat(l)"
   ]
  },
  {
   "cell_type": "code",
   "execution_count": null,
   "id": "4a5565c5-4c21-4d6e-a16f-81e8966b0dc4",
   "metadata": {},
   "outputs": [],
   "source": [
    "df.loc[df[temp].idxmax(),:]"
   ]
  },
  {
   "cell_type": "code",
   "execution_count": null,
   "id": "13b77389-262c-4eea-b44c-4c8de9189930",
   "metadata": {},
   "outputs": [],
   "source": []
  }
 ],
 "metadata": {
  "kernelspec": {
   "display_name": "Python [conda env:ML_cpu]",
   "language": "python",
   "name": "conda-env-ML_cpu-py"
  },
  "language_info": {
   "codemirror_mode": {
    "name": "ipython",
    "version": 3
   },
   "file_extension": ".py",
   "mimetype": "text/x-python",
   "name": "python",
   "nbconvert_exporter": "python",
   "pygments_lexer": "ipython3",
   "version": "3.10.6"
  }
 },
 "nbformat": 4,
 "nbformat_minor": 5
}
