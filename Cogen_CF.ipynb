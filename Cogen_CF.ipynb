{
  "cells": [
    {
      "cell_type": "code",
      "execution_count": 77,
      "id": "8ef6d450-873c-4ff0-8575-8620efb22b66",
      "metadata": {
        "id": "8ef6d450-873c-4ff0-8575-8620efb22b66"
      },
      "outputs": [],
      "source": [
        "import pandas as pd\n",
        "import os\n",
        "import numpy as np\n",
        "import seaborn as sns\n",
        "import matplotlib.pyplot as plt\n",
        "from sklearn.cluster import KMeans\n",
        "from scipy.stats import t"
      ]
    },
    {
      "cell_type": "markdown",
      "id": "cfbf92c0-2309-43b9-bd1d-fc9b64c6ced0",
      "metadata": {
        "id": "cfbf92c0-2309-43b9-bd1d-fc9b64c6ced0"
      },
      "source": [
        "# Build the Dataset and Cross-reference Lists"
      ]
    },
    {
      "cell_type": "markdown",
      "id": "0669f1e5-bdea-4428-90da-7da9fbc95b28",
      "metadata": {
        "id": "0669f1e5-bdea-4428-90da-7da9fbc95b28"
      },
      "source": [
        "## Read in the Dataset. \n",
        "\n",
        "Dataset was pulled from the facility's Process Historian using OsiSoft PI Datalink addon in Excel. The resulting values were then exported as .csv file.\n",
        "\n",
        "Rarely is the data 'clean' enough where a column will get pulled in as anything but an object/string"
      ]
    },
    {
      "cell_type": "code",
      "execution_count": 2,
      "id": "d311748d-2e9d-4bd4-9516-9e633761e58a",
      "metadata": {
        "id": "d311748d-2e9d-4bd4-9516-9e633761e58a"
      },
      "outputs": [],
      "source": [
        "# function to just sort out my personal dataset access shenanigans\n",
        "def dataset_read(filename):\n",
        "    url = 'https://raw.githubusercontent.com/nollijish/datasets/main/' + filename\n",
        "    return pd.read_csv(url,\n",
        "                       on_bad_lines='warn',\n",
        "                       low_memory=False,\n",
        "                       compression='gzip'\n",
        "                       )"
      ]
    },
    {
      "cell_type": "code",
      "execution_count": 3,
      "id": "dd65d870-0edd-421a-9fe2-e406506887da",
      "metadata": {
        "id": "dd65d870-0edd-421a-9fe2-e406506887da"
      },
      "outputs": [],
      "source": [
        "df = dataset_read('Cogen_CF_20221222-20100101.csv.gz')"
      ]
    },
    {
      "cell_type": "markdown",
      "id": "5cfc0b38-e8b8-49f1-9b1d-9bd5355ba1f8",
      "metadata": {
        "id": "5cfc0b38-e8b8-49f1-9b1d-9bd5355ba1f8"
      },
      "source": [
        "## Setup Tags Lists\n",
        "\n",
        "There are 3 generator units with individual 'tags' and then common fuel gas information tags and common weather tags.\n",
        "\n",
        "Additionally, there are new tags and old tags. The old tags get shut off at some specific time and then the new tags get activated."
      ]
    },
    {
      "cell_type": "code",
      "execution_count": 4,
      "id": "0a2ef6d3-c6c6-4093-b07b-4ce226ff4249",
      "metadata": {
        "id": "0a2ef6d3-c6c6-4093-b07b-4ce226ff4249"
      },
      "outputs": [],
      "source": [
        "# setup for mapping tags between older tags and newer tags to create a more \n",
        "# complete dataset the formatting is for ease of interpretation\n",
        "old_tags = [ # power output old tags\n",
        "    ['1DW.PV','2DW.PV','3DW.PV']\n",
        "    , # unit 1 old tags\n",
        "    ['1CTDA1.PV','1CPD.PV','1AFPAP.PV','1TTXC.PV','90FGCOGEN1GTG']\n",
        "    , # unit 2 old tags\n",
        "    ['2CTDA1.PV','2CPD.PV','2AFPAP.PV','2TTXC.PV','90FGCOGEN2GTG']\n",
        "    , # unit 3 old tags\n",
        "    ['3CTDA1.PV','3CPD.PV','3AFPAP.PV','3TTXC.PV','90FGCOGEN3GTG']\n",
        "]\n",
        "\n",
        "new_tags = [ # power output new tags\n",
        "    ['901DW.PV','902DW.PV','903DW.PV',]\n",
        "    , # unit 1 new tags\n",
        "    ['901CTDA1.PV','901CPD.PV','901AFPAP.PV','901TTXC.PV','90AQ137.FGCOGEN1GTG.PV']\n",
        "    , # unit 2 new tags\n",
        "    ['902CTDA1.PV','902CPD.PV','902AFPAP.PV','902TTXC.PV','90AQ237.FGCOGEN2GTG.PV']\n",
        "    , # unit 3 new tags\n",
        "    ['903CTDA1.PV','903CPD.PV','903AFPAP.PV','903TTXC.PV','90AQ337.FGCOGEN3GTG.PV']\n",
        "]\n",
        "\n",
        "# common tag identifiers for the unit tags once converted to MultiIndex\n",
        "comm_tags = ['DW','CTDA1','CPD','AFPAP','TTXC','FG']\n",
        "\n",
        "# explanatory and response variable tags\n",
        "ac = ['TIMESTAMP'] + comm_tags\n",
        "\n",
        "tags_dict = {}\n",
        "for i in range(len(old_tags)):\n",
        "    tags_dict.update(dict(zip(new_tags[i],old_tags[i])))"
      ]
    },
    {
      "cell_type": "markdown",
      "id": "127090c9-5be6-4a6c-8d94-a547d02d437e",
      "metadata": {
        "id": "127090c9-5be6-4a6c-8d94-a547d02d437e"
      },
      "source": [
        "# Clean and Organize the Dataset"
      ]
    },
    {
      "cell_type": "code",
      "execution_count": 5,
      "id": "99a1cc9c-6af3-4ac9-9cb6-acd73a25d272",
      "metadata": {
        "id": "99a1cc9c-6af3-4ac9-9cb6-acd73a25d272"
      },
      "outputs": [],
      "source": [
        "# make a flat list out of a list of lists\n",
        "def flat(list__):\n",
        "    return [item for sublist in list__ for item in sublist]\n",
        "\n",
        "def munch_crunch_clean(df__):\n",
        "    # search for all the strings in the process historian that contains bad data\n",
        "    badpv = ['No Data','Bad Data','Bad','Intf Shut','Bad Input','I/O Timeout',\n",
        "             'Configure','Scan Off','Out of Serv','Comm Fail','','Error',\n",
        "             'Pt Created', 'Calc Failed','Invalid Float']\n",
        "    # replace those strings with null values (which we can manage easier)\n",
        "    df__ = df__.replace(to_replace=badpv,\n",
        "                        value=np.nan,\n",
        "                        inplace=False\n",
        "                        )\n",
        "    # search for empty strings using regex (not sure why above not working)\n",
        "    df__ = df__.replace(r'^\\s*$',np.nan,inplace=False,regex=True)\n",
        "    \n",
        "    # swap values over from old tags to new tags\n",
        "    for i in new_tags:\n",
        "        for k in i:\n",
        "            mask_new = df__[k].isna()\n",
        "            val = tags_dict[k]\n",
        "            df__.loc[mask_new, k] = df__.loc[mask_new, val]\n",
        "    # cut down to just the needed columns now that they have been combined\n",
        "    df__ = df__.drop(columns=flat(old_tags))\n",
        "    \n",
        "    # create unit tags list and mapping to common tags for each of the models\n",
        "    dfl = [[],[],[],[]]\n",
        "    for i in range(1,4):\n",
        "        unit_tags = ['TIMESTAMP'] + [new_tags[0][i-1]] + new_tags[i]\n",
        "        map_dict = dict(zip(unit_tags,ac))\n",
        "        dfl[i] = df__.loc[:,unit_tags].copy()\n",
        "        dfl[i].rename(columns=map_dict,inplace=True)\n",
        "        \n",
        "    # concatenate back down to a single dataframe using multiindexing\n",
        "    df__ = pd.concat([dfl[1], dfl[2], dfl[3]],\n",
        "                     keys=['Unit1','Unit2','Unit3'],\n",
        "                     names=['UNIT','CASE']\n",
        "                     )\n",
        "    \n",
        "    # convert the TIMESTAMP to datetime format\n",
        "    try:\n",
        "        df__['TIMESTAMP'] = pd.to_datetime(arg=df__.loc[:,'TIMESTAMP'],\n",
        "                                           errors='raise',\n",
        "                                           format=\"%m/%d/%Y %H:%M\"\n",
        "                                           )\n",
        "    except:\n",
        "        df__['TIMESTAMP'] = pd.to_datetime(arg=df__.loc[:,'TIMESTAMP'],\n",
        "                                           errors='coerce',\n",
        "                                           format=\"%d-%b-%y %H:%M:%S\"\n",
        "                                           )\n",
        "    # convert all sample values to float\n",
        "    df__.loc[:,ac[1:]] = df__.loc[:,ac[1:]].astype(dtype=np.float64)\n",
        "    \n",
        "    return df__"
      ]
    },
    {
      "cell_type": "code",
      "execution_count": 6,
      "id": "7b5ed0d7-3637-4a71-b137-c0495ec056df",
      "metadata": {
        "id": "7b5ed0d7-3637-4a71-b137-c0495ec056df"
      },
      "outputs": [],
      "source": [
        "df = munch_crunch_clean(df)"
      ]
    },
    {
      "cell_type": "markdown",
      "id": "76d65ac5-c466-43dd-962f-622e4d327452",
      "metadata": {
        "id": "76d65ac5-c466-43dd-962f-622e4d327452"
      },
      "source": [
        "## Dataframe Columns Information\n",
        "| Tag (Variable) | Variable Type | Data Type | Units | Description |\n",
        "| :- | :- | :- | :- | :- |\n",
        "| **General Data** |\n",
        "| TIMESTAMP | Categorical Ordinal | datetime | Month/Day/Year Hour:Minutes | Time at observation |\n",
        "| **Generator Data** |\n",
        "| DW | Numerical Continuous | float | Megawatts (MW) | Generator Power Output |\n",
        "| CTDA1 | Numerical Continuous | float | degrees Fahrenheit (°F) | Turbine Compressor Discharge Temperature |\n",
        "| CPD | Numerical Continuous | float | pounds/inch$^2$ (psig) | Turbine Compressor Outlet Pressure |\n",
        "| AFPAP | Numerical Continuous | float | inches of mercury (inHg) | Turbine Compressor Inlet Pressure |\n",
        "| TTXC | Numerical Continuous | float | degrees Fahrenheit (°F) | Turbine Exhaust Temperature Average |\n",
        "| FG | Numerical Continuous | float | thousand scuffs per hour (mscf/h) | Fuel Gas Burned |"
      ]
    },
    {
      "cell_type": "code",
      "execution_count": 7,
      "id": "9d95bcb7-8342-44e5-9064-9d534643502b",
      "metadata": {
        "colab": {
          "base_uri": "https://localhost:8080/"
        },
        "id": "9d95bcb7-8342-44e5-9064-9d534643502b",
        "outputId": "e5cba01c-5e1c-4675-9cd6-d8cdfaf32a51"
      },
      "outputs": [
        {
          "output_type": "stream",
          "name": "stdout",
          "text": [
            "<class 'pandas.core.frame.DataFrame'>\n",
            "MultiIndex: 341139 entries, ('Unit1', 0) to ('Unit3', 113712)\n",
            "Data columns (total 7 columns):\n",
            " #   Column     Non-Null Count   Dtype         \n",
            "---  ------     --------------   -----         \n",
            " 0   TIMESTAMP  341139 non-null  datetime64[ns]\n",
            " 1   DW         336043 non-null  float64       \n",
            " 2   CTDA1      339293 non-null  float64       \n",
            " 3   CPD        334421 non-null  float64       \n",
            " 4   AFPAP      338861 non-null  float64       \n",
            " 5   TTXC       337522 non-null  float64       \n",
            " 6   FG         296193 non-null  float64       \n",
            "dtypes: datetime64[ns](1), float64(6)\n",
            "memory usage: 19.8+ MB\n"
          ]
        }
      ],
      "source": [
        "df.info()"
      ]
    },
    {
      "cell_type": "code",
      "execution_count": 8,
      "id": "489f68a5-b303-406a-9d9d-40957445ed0b",
      "metadata": {
        "colab": {
          "base_uri": "https://localhost:8080/",
          "height": 237
        },
        "id": "489f68a5-b303-406a-9d9d-40957445ed0b",
        "outputId": "06ca6a89-ce6c-4b7c-937d-1ae0df328666"
      },
      "outputs": [
        {
          "output_type": "execute_result",
          "data": {
            "text/plain": [
              "                     TIMESTAMP         DW       CTDA1         CPD      AFPAP  \\\n",
              "UNIT  CASE                                                                     \n",
              "Unit1 0    2010-01-01 00:00:00  40.906673  644.222656  161.566803  29.570610   \n",
              "      1    2010-01-01 01:00:00  40.761490  645.698181  161.069000  29.539499   \n",
              "      2    2010-01-01 02:00:00  40.811272  645.698181  161.566803  29.525236   \n",
              "      3    2010-01-01 03:00:00  40.815418  645.609314  161.566803  29.538202   \n",
              "      4    2010-01-01 04:00:00  40.661930  646.610840  161.027512  29.491720   \n",
              "\n",
              "                   TTXC  FG  \n",
              "UNIT  CASE                   \n",
              "Unit1 0     1020.744019 NaN  \n",
              "      1     1021.780518 NaN  \n",
              "      2     1021.739014 NaN  \n",
              "      3     1021.697510 NaN  \n",
              "      4     1022.776489 NaN  "
            ],
            "text/html": [
              "\n",
              "  <div id=\"df-41581bb6-e784-4bcd-9485-fb168338fa20\">\n",
              "    <div class=\"colab-df-container\">\n",
              "      <div>\n",
              "<style scoped>\n",
              "    .dataframe tbody tr th:only-of-type {\n",
              "        vertical-align: middle;\n",
              "    }\n",
              "\n",
              "    .dataframe tbody tr th {\n",
              "        vertical-align: top;\n",
              "    }\n",
              "\n",
              "    .dataframe thead th {\n",
              "        text-align: right;\n",
              "    }\n",
              "</style>\n",
              "<table border=\"1\" class=\"dataframe\">\n",
              "  <thead>\n",
              "    <tr style=\"text-align: right;\">\n",
              "      <th></th>\n",
              "      <th></th>\n",
              "      <th>TIMESTAMP</th>\n",
              "      <th>DW</th>\n",
              "      <th>CTDA1</th>\n",
              "      <th>CPD</th>\n",
              "      <th>AFPAP</th>\n",
              "      <th>TTXC</th>\n",
              "      <th>FG</th>\n",
              "    </tr>\n",
              "    <tr>\n",
              "      <th>UNIT</th>\n",
              "      <th>CASE</th>\n",
              "      <th></th>\n",
              "      <th></th>\n",
              "      <th></th>\n",
              "      <th></th>\n",
              "      <th></th>\n",
              "      <th></th>\n",
              "      <th></th>\n",
              "    </tr>\n",
              "  </thead>\n",
              "  <tbody>\n",
              "    <tr>\n",
              "      <th rowspan=\"5\" valign=\"top\">Unit1</th>\n",
              "      <th>0</th>\n",
              "      <td>2010-01-01 00:00:00</td>\n",
              "      <td>40.906673</td>\n",
              "      <td>644.222656</td>\n",
              "      <td>161.566803</td>\n",
              "      <td>29.570610</td>\n",
              "      <td>1020.744019</td>\n",
              "      <td>NaN</td>\n",
              "    </tr>\n",
              "    <tr>\n",
              "      <th>1</th>\n",
              "      <td>2010-01-01 01:00:00</td>\n",
              "      <td>40.761490</td>\n",
              "      <td>645.698181</td>\n",
              "      <td>161.069000</td>\n",
              "      <td>29.539499</td>\n",
              "      <td>1021.780518</td>\n",
              "      <td>NaN</td>\n",
              "    </tr>\n",
              "    <tr>\n",
              "      <th>2</th>\n",
              "      <td>2010-01-01 02:00:00</td>\n",
              "      <td>40.811272</td>\n",
              "      <td>645.698181</td>\n",
              "      <td>161.566803</td>\n",
              "      <td>29.525236</td>\n",
              "      <td>1021.739014</td>\n",
              "      <td>NaN</td>\n",
              "    </tr>\n",
              "    <tr>\n",
              "      <th>3</th>\n",
              "      <td>2010-01-01 03:00:00</td>\n",
              "      <td>40.815418</td>\n",
              "      <td>645.609314</td>\n",
              "      <td>161.566803</td>\n",
              "      <td>29.538202</td>\n",
              "      <td>1021.697510</td>\n",
              "      <td>NaN</td>\n",
              "    </tr>\n",
              "    <tr>\n",
              "      <th>4</th>\n",
              "      <td>2010-01-01 04:00:00</td>\n",
              "      <td>40.661930</td>\n",
              "      <td>646.610840</td>\n",
              "      <td>161.027512</td>\n",
              "      <td>29.491720</td>\n",
              "      <td>1022.776489</td>\n",
              "      <td>NaN</td>\n",
              "    </tr>\n",
              "  </tbody>\n",
              "</table>\n",
              "</div>\n",
              "      <button class=\"colab-df-convert\" onclick=\"convertToInteractive('df-41581bb6-e784-4bcd-9485-fb168338fa20')\"\n",
              "              title=\"Convert this dataframe to an interactive table.\"\n",
              "              style=\"display:none;\">\n",
              "        \n",
              "  <svg xmlns=\"http://www.w3.org/2000/svg\" height=\"24px\"viewBox=\"0 0 24 24\"\n",
              "       width=\"24px\">\n",
              "    <path d=\"M0 0h24v24H0V0z\" fill=\"none\"/>\n",
              "    <path d=\"M18.56 5.44l.94 2.06.94-2.06 2.06-.94-2.06-.94-.94-2.06-.94 2.06-2.06.94zm-11 1L8.5 8.5l.94-2.06 2.06-.94-2.06-.94L8.5 2.5l-.94 2.06-2.06.94zm10 10l.94 2.06.94-2.06 2.06-.94-2.06-.94-.94-2.06-.94 2.06-2.06.94z\"/><path d=\"M17.41 7.96l-1.37-1.37c-.4-.4-.92-.59-1.43-.59-.52 0-1.04.2-1.43.59L10.3 9.45l-7.72 7.72c-.78.78-.78 2.05 0 2.83L4 21.41c.39.39.9.59 1.41.59.51 0 1.02-.2 1.41-.59l7.78-7.78 2.81-2.81c.8-.78.8-2.07 0-2.86zM5.41 20L4 18.59l7.72-7.72 1.47 1.35L5.41 20z\"/>\n",
              "  </svg>\n",
              "      </button>\n",
              "      \n",
              "  <style>\n",
              "    .colab-df-container {\n",
              "      display:flex;\n",
              "      flex-wrap:wrap;\n",
              "      gap: 12px;\n",
              "    }\n",
              "\n",
              "    .colab-df-convert {\n",
              "      background-color: #E8F0FE;\n",
              "      border: none;\n",
              "      border-radius: 50%;\n",
              "      cursor: pointer;\n",
              "      display: none;\n",
              "      fill: #1967D2;\n",
              "      height: 32px;\n",
              "      padding: 0 0 0 0;\n",
              "      width: 32px;\n",
              "    }\n",
              "\n",
              "    .colab-df-convert:hover {\n",
              "      background-color: #E2EBFA;\n",
              "      box-shadow: 0px 1px 2px rgba(60, 64, 67, 0.3), 0px 1px 3px 1px rgba(60, 64, 67, 0.15);\n",
              "      fill: #174EA6;\n",
              "    }\n",
              "\n",
              "    [theme=dark] .colab-df-convert {\n",
              "      background-color: #3B4455;\n",
              "      fill: #D2E3FC;\n",
              "    }\n",
              "\n",
              "    [theme=dark] .colab-df-convert:hover {\n",
              "      background-color: #434B5C;\n",
              "      box-shadow: 0px 1px 3px 1px rgba(0, 0, 0, 0.15);\n",
              "      filter: drop-shadow(0px 1px 2px rgba(0, 0, 0, 0.3));\n",
              "      fill: #FFFFFF;\n",
              "    }\n",
              "  </style>\n",
              "\n",
              "      <script>\n",
              "        const buttonEl =\n",
              "          document.querySelector('#df-41581bb6-e784-4bcd-9485-fb168338fa20 button.colab-df-convert');\n",
              "        buttonEl.style.display =\n",
              "          google.colab.kernel.accessAllowed ? 'block' : 'none';\n",
              "\n",
              "        async function convertToInteractive(key) {\n",
              "          const element = document.querySelector('#df-41581bb6-e784-4bcd-9485-fb168338fa20');\n",
              "          const dataTable =\n",
              "            await google.colab.kernel.invokeFunction('convertToInteractive',\n",
              "                                                     [key], {});\n",
              "          if (!dataTable) return;\n",
              "\n",
              "          const docLinkHtml = 'Like what you see? Visit the ' +\n",
              "            '<a target=\"_blank\" href=https://colab.research.google.com/notebooks/data_table.ipynb>data table notebook</a>'\n",
              "            + ' to learn more about interactive tables.';\n",
              "          element.innerHTML = '';\n",
              "          dataTable['output_type'] = 'display_data';\n",
              "          await google.colab.output.renderOutput(dataTable, element);\n",
              "          const docLink = document.createElement('div');\n",
              "          docLink.innerHTML = docLinkHtml;\n",
              "          element.appendChild(docLink);\n",
              "        }\n",
              "      </script>\n",
              "    </div>\n",
              "  </div>\n",
              "  "
            ]
          },
          "metadata": {},
          "execution_count": 8
        }
      ],
      "source": [
        "df.head()"
      ]
    },
    {
      "cell_type": "markdown",
      "source": [
        "## Create a fully clean dataset to build Distributions"
      ],
      "metadata": {
        "id": "Wn1_aueFILCF"
      },
      "id": "Wn1_aueFILCF"
    },
    {
      "cell_type": "code",
      "execution_count": 9,
      "id": "d782c39d-7906-4e38-a23a-6d24be1fd8ec",
      "metadata": {
        "id": "d782c39d-7906-4e38-a23a-6d24be1fd8ec"
      },
      "outputs": [],
      "source": [
        "df_nona = df.dropna()"
      ]
    },
    {
      "cell_type": "code",
      "source": [
        "df_nona.info()"
      ],
      "metadata": {
        "colab": {
          "base_uri": "https://localhost:8080/"
        },
        "id": "BPtPN2MfIjNd",
        "outputId": "2a3c4b84-eef0-4a1a-967a-e0fc6d7a4c32"
      },
      "id": "BPtPN2MfIjNd",
      "execution_count": 10,
      "outputs": [
        {
          "output_type": "stream",
          "name": "stdout",
          "text": [
            "<class 'pandas.core.frame.DataFrame'>\n",
            "MultiIndex: 290322 entries, ('Unit1', 12225) to ('Unit3', 113712)\n",
            "Data columns (total 7 columns):\n",
            " #   Column     Non-Null Count   Dtype         \n",
            "---  ------     --------------   -----         \n",
            " 0   TIMESTAMP  290322 non-null  datetime64[ns]\n",
            " 1   DW         290322 non-null  float64       \n",
            " 2   CTDA1      290322 non-null  float64       \n",
            " 3   CPD        290322 non-null  float64       \n",
            " 4   AFPAP      290322 non-null  float64       \n",
            " 5   TTXC       290322 non-null  float64       \n",
            " 6   FG         290322 non-null  float64       \n",
            "dtypes: datetime64[ns](1), float64(6)\n",
            "memory usage: 16.9+ MB\n"
          ]
        }
      ]
    },
    {
      "cell_type": "markdown",
      "source": [
        "# Cluster clean dataframe: Non-operational (NOP), Operational (OP)"
      ],
      "metadata": {
        "id": "ESBsXIQaKPcN"
      },
      "id": "ESBsXIQaKPcN"
    },
    {
      "cell_type": "code",
      "source": [
        "# Use KMeans and hope that the clusters center around 0 and Operational values\n",
        "clus = KMeans(n_clusters=2).fit(df_nona.loc[:,comm_tags])"
      ],
      "metadata": {
        "id": "SlTJqbwWInpG"
      },
      "id": "SlTJqbwWInpG",
      "execution_count": 100,
      "outputs": []
    },
    {
      "cell_type": "code",
      "source": [
        "# set OP to use logical_not as cluster 0 is the Operational cluster (the more populated)\n",
        "df_nona.loc[:,'OP'] = np.logical_not(clus.labels_)"
      ],
      "metadata": {
        "id": "kzOJB-bqgRA_",
        "outputId": "bce28ad2-677c-476e-a45c-65faee46f59a",
        "colab": {
          "base_uri": "https://localhost:8080/"
        }
      },
      "id": "kzOJB-bqgRA_",
      "execution_count": 101,
      "outputs": [
        {
          "output_type": "stream",
          "name": "stderr",
          "text": [
            "/usr/local/lib/python3.8/dist-packages/pandas/core/indexing.py:1773: SettingWithCopyWarning: \n",
            "A value is trying to be set on a copy of a slice from a DataFrame.\n",
            "Try using .loc[row_indexer,col_indexer] = value instead\n",
            "\n",
            "See the caveats in the documentation: https://pandas.pydata.org/pandas-docs/stable/user_guide/indexing.html#returning-a-view-versus-a-copy\n",
            "  self._setitem_single_column(ilocs[0], value, pi)\n"
          ]
        }
      ]
    },
    {
      "cell_type": "markdown",
      "source": [
        "## Review Process Variable Distributions by cluster"
      ],
      "metadata": {
        "id": "G0-yO4cl6fCy"
      },
      "id": "G0-yO4cl6fCy"
    },
    {
      "cell_type": "code",
      "source": [
        "# Take a look at the cluster centers to ensure the values are where we expect\n",
        "# Additionally, look at the distributions\n",
        "out = 'PV\\tClus0\\tClus1'\n",
        "pcnt = [0.1,0.9]\n",
        "\n",
        "sns.set_style('whitegrid')\n",
        "fig, ax = plt.subplots(len(comm_tags), 2, figsize=(12, 12))\n",
        "\n",
        "for i in range(len(comm_tags)):\n",
        "    out += '\\n{0}\\t{1:0.2f}\\t{2:0.2f}'.format(comm_tags[i],\n",
        "                                            clus.cluster_centers_[0,i],\n",
        "                                            clus.cluster_centers_[1,i]\n",
        "                                            )\n",
        "    for j in [0,1]:\n",
        "        df_temp_stats = df_nona[(df_nona.loc[:,'OP']==j)].describe(percentiles=pcnt)\n",
        "        sns.histplot(data=df_nona[(df_nona.loc[:,'OP']==j)],\n",
        "                        x=comm_tags[i],\n",
        "                        bins=50,\n",
        "                        ax=ax[i,j]\n",
        "                        )\n",
        "        ax[i,j].set(\n",
        "            xlim=(df_temp_stats.loc['10%',comm_tags[i]],df_temp_stats.loc['90%',comm_tags[i]]),\n",
        "            ylabel='',\n",
        "            xlabel='',\n",
        "            title=str(comm_tags[i]) + ' Operational = {}'.format(bool(j))\n",
        "        )\n",
        "out+='\\n'\n",
        "print(out)\n",
        "fig.subplots_adjust(hspace=0.6,wspace=0.4)\n",
        "fig.suptitle('Process Variable Distributions')"
      ],
      "metadata": {
        "colab": {
          "base_uri": "https://localhost:8080/",
          "height": 943
        },
        "id": "3mGUaBtIK2gM",
        "outputId": "3c55f597-d733-4c01-f8d1-3eba76fb6645"
      },
      "id": "3mGUaBtIK2gM",
      "execution_count": 106,
      "outputs": [
        {
          "output_type": "stream",
          "name": "stdout",
          "text": [
            "PV\tClus0\tClus1\n",
            "DW\t39.52\t0.30\n",
            "CTDA1\t648.67\t52.22\n",
            "CPD\t161.63\t-0.19\n",
            "AFPAP\t29.89\t17.90\n",
            "TTXC\t987.84\t59.94\n",
            "FG\t463.22\t4.51\n",
            "\n"
          ]
        },
        {
          "output_type": "execute_result",
          "data": {
            "text/plain": [
              "Text(0.5, 0.98, 'Process Variable Distributions')"
            ]
          },
          "metadata": {},
          "execution_count": 106
        },
        {
          "output_type": "display_data",
          "data": {
            "text/plain": [
              "<Figure size 864x864 with 12 Axes>"
            ],
            "image/png": "[encoded data removed]"
          },
          "metadata": {}
        }
      ]
    },
    {
      "cell_type": "markdown",
      "source": [
        "## Create Distributions to compute p-values against"
      ],
      "metadata": {
        "id": "BrdBLUfN4Ze3"
      },
      "id": "BrdBLUfN4Ze3"
    },
    {
      "cell_type": "code",
      "source": [
        "# Process variable statistics for the Operational cluster\n",
        "OP_stats = df_nona[(df_nona['OP']==1)].describe().to_dict()"
      ],
      "metadata": {
        "id": "s8YSEBUAkzAo"
      },
      "id": "s8YSEBUAkzAo",
      "execution_count": 102,
      "outputs": []
    },
    {
      "cell_type": "code",
      "source": [
        "# Process variable statistics for the Non-operational cluster\n",
        "NOP_stats = df_nona[(df_nona['OP']==0)].describe().to_dict()"
      ],
      "metadata": {
        "id": "glOjwHR7lR6J"
      },
      "id": "glOjwHR7lR6J",
      "execution_count": 103,
      "outputs": []
    },
    {
      "cell_type": "code",
      "source": [
        "# create distributions to compute p-values against\n",
        "dist = {}\n",
        "dist[1] = {}\n",
        "dist[0] = {}\n",
        "for i in comm_tags:\n",
        "    dist[1][i] = t(df=OP_stats[i]['count'],\n",
        "                   loc=OP_stats[i]['mean'],\n",
        "                   scale=OP_stats[i]['std']\n",
        "                   )\n",
        "    dist[0][i] = t(df=OP_stats[i]['count'],\n",
        "                   loc=OP_stats[i]['mean'],\n",
        "                   scale=OP_stats[i]['std']\n",
        "                   )"
      ],
      "metadata": {
        "id": "wqncf5aOwWqE"
      },
      "id": "wqncf5aOwWqE",
      "execution_count": 104,
      "outputs": []
    },
    {
      "cell_type": "code",
      "source": [
        "dist"
      ],
      "metadata": {
        "id": "uTKKcjLp3WNk",
        "outputId": "3bf23005-cf41-42d3-8b0d-1048d4027ea1",
        "colab": {
          "base_uri": "https://localhost:8080/"
        }
      },
      "id": "uTKKcjLp3WNk",
      "execution_count": 105,
      "outputs": [
        {
          "output_type": "execute_result",
          "data": {
            "text/plain": [
              "{1: {'DW': <scipy.stats._distn_infrastructure.rv_frozen at 0x7f25398e62b0>,\n",
              "  'CTDA1': <scipy.stats._distn_infrastructure.rv_frozen at 0x7f25399b4e80>,\n",
              "  'CPD': <scipy.stats._distn_infrastructure.rv_frozen at 0x7f25398e6370>,\n",
              "  'AFPAP': <scipy.stats._distn_infrastructure.rv_frozen at 0x7f25399a6f40>,\n",
              "  'TTXC': <scipy.stats._distn_infrastructure.rv_frozen at 0x7f25399a6910>,\n",
              "  'FG': <scipy.stats._distn_infrastructure.rv_frozen at 0x7f25392b8a00>},\n",
              " 0: {'DW': <scipy.stats._distn_infrastructure.rv_frozen at 0x7f25366f5e80>,\n",
              "  'CTDA1': <scipy.stats._distn_infrastructure.rv_frozen at 0x7f25398e6a30>,\n",
              "  'CPD': <scipy.stats._distn_infrastructure.rv_frozen at 0x7f25399a6160>,\n",
              "  'AFPAP': <scipy.stats._distn_infrastructure.rv_frozen at 0x7f25399a6ee0>,\n",
              "  'TTXC': <scipy.stats._distn_infrastructure.rv_frozen at 0x7f25392b8640>,\n",
              "  'FG': <scipy.stats._distn_infrastructure.rv_frozen at 0x7f25392b8c40>}}"
            ]
          },
          "metadata": {},
          "execution_count": 105
        }
      ]
    },
    {
      "cell_type": "markdown",
      "source": [
        "# Calculate p-values on original dataset to determine if Generator is Operational"
      ],
      "metadata": {
        "id": "8Px9btIAsPvP"
      },
      "id": "8Px9btIAsPvP"
    },
    {
      "cell_type": "code",
      "source": [],
      "metadata": {
        "id": "uMorjj0sNNT5"
      },
      "id": "uMorjj0sNNT5",
      "execution_count": null,
      "outputs": []
    }
  ],
  "metadata": {
    "kernelspec": {
      "display_name": "Python [conda env:ML_cpu]",
      "language": "python",
      "name": "conda-env-ML_cpu-py"
    },
    "language_info": {
      "codemirror_mode": {
        "name": "ipython",
        "version": 3
      },
      "file_extension": ".py",
      "mimetype": "text/x-python",
      "name": "python",
      "nbconvert_exporter": "python",
      "pygments_lexer": "ipython3",
      "version": "3.10.6"
    },
    "colab": {
      "provenance": [],
      "toc_visible": true
    }
  },
  "nbformat": 4,
  "nbformat_minor": 5
}