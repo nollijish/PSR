{
 "cells": [
  {
   "cell_type": "code",
   "execution_count": 1,
   "id": "8ef6d450-873c-4ff0-8575-8620efb22b66",
   "metadata": {},
   "outputs": [],
   "source": [
    "import pandas as pd\n",
    "import os\n",
    "import numpy as np\n",
    "from pathlib import Path, PureWindowsPath"
   ]
  },
  {
   "cell_type": "markdown",
   "id": "cfbf92c0-2309-43b9-bd1d-fc9b64c6ced0",
   "metadata": {},
   "source": [
    "# Build the Dataset and Cross-reference Lists"
   ]
  },
  {
   "cell_type": "markdown",
   "id": "0669f1e5-bdea-4428-90da-7da9fbc95b28",
   "metadata": {},
   "source": [
    "## Read in the Dataset. \n",
    "\n",
    "Dataset was pulled from the facility's Process Historian using OsiSoft PI Datalink addon in Excel. The resulting values were then exported as .csv file.\n",
    "\n",
    "Rarely is the data 'clean' enough where a column will get pulled in as anything but an object/string"
   ]
  },
  {
   "cell_type": "code",
   "execution_count": 2,
   "id": "d311748d-2e9d-4bd4-9516-9e633761e58a",
   "metadata": {},
   "outputs": [],
   "source": [
    "# function to just sort out my personal dataset access shenanigans\n",
    "def dataset_read(filename):\n",
    "    url = 'https://raw.githubusercontent.com/nollijish/datasets/main/' + filename\n",
    "    return pd.read_csv(url,\n",
    "                       on_bad_lines='warn',\n",
    "                       low_memory=False,\n",
    "                       compression='gzip'\n",
    "                       )"
   ]
  },
  {
   "cell_type": "code",
   "execution_count": 3,
   "id": "dd65d870-0edd-421a-9fe2-e406506887da",
   "metadata": {},
   "outputs": [],
   "source": [
    "df = dataset_read('Cogen_CF_20221222-20100101.csv.gz')"
   ]
  },
  {
   "cell_type": "markdown",
   "id": "5cfc0b38-e8b8-49f1-9b1d-9bd5355ba1f8",
   "metadata": {},
   "source": [
    "## Setup Tags Lists\n",
    "\n",
    "There are 3 generator units with individual 'tags' and then common fuel gas information tags and common weather tags.\n",
    "\n",
    "Additionally, there are new tags and old tags. The old tags get shut off at some specific time and then the new tags get activated."
   ]
  },
  {
   "cell_type": "code",
   "execution_count": 4,
   "id": "0a2ef6d3-c6c6-4093-b07b-4ce226ff4249",
   "metadata": {},
   "outputs": [],
   "source": [
    "# setup for mapping tags between older tags and newer tags to create a more \n",
    "# complete dataset the formatting is for ease of interpretation\n",
    "old_tags = [ # power output old tags\n",
    "    ['1DW.PV','2DW.PV','3DW.PV']\n",
    "    , # unit 1 old tags\n",
    "    ['1CTDA1.PV','1CPD.PV','1AFPAP.PV','1TTXC.PV','90FGCOGEN1GTG']\n",
    "    , # unit 2 old tags\n",
    "    ['2CTDA1.PV','2CPD.PV','2AFPAP.PV','2TTXC.PV','90FGCOGEN2GTG']\n",
    "    , # unit 3 old tags\n",
    "    ['3CTDA1.PV','3CPD.PV','3AFPAP.PV','3TTXC.PV','90FGCOGEN3GTG']\n",
    "]\n",
    "\n",
    "new_tags = [ # power output new tags\n",
    "    ['901DW.PV','902DW.PV','903DW.PV',]\n",
    "    , # unit 1 new tags\n",
    "    ['901CTDA1.PV','901CPD.PV','901AFPAP.PV','901TTXC.PV','90AQ137.FGCOGEN1GTG.PV']\n",
    "    , # unit 2 new tags\n",
    "    ['902CTDA1.PV','902CPD.PV','902AFPAP.PV','902TTXC.PV','90AQ237.FGCOGEN2GTG.PV']\n",
    "    , # unit 3 new tags\n",
    "    ['903CTDA1.PV','903CPD.PV','903AFPAP.PV','903TTXC.PV','90AQ337.FGCOGEN3GTG.PV']\n",
    "]\n",
    "\n",
    "# common tag identifiers for the unit tags once converted to MultiIndex\n",
    "comm_tags = ['DW','CTDA1','CPD','AFPAP','TTXC','FG']\n",
    "\n",
    "# explanatory and response variable tags\n",
    "ac = ['TIMESTAMP'] + comm_tags\n",
    "\n",
    "tags_dict = {}\n",
    "for i in range(len(old_tags)):\n",
    "    tags_dict.update(dict(zip(new_tags[i],old_tags[i])))"
   ]
  },
  {
   "cell_type": "markdown",
   "id": "127090c9-5be6-4a6c-8d94-a547d02d437e",
   "metadata": {},
   "source": [
    "# Clean and Organize the Dataset"
   ]
  },
  {
   "cell_type": "code",
   "execution_count": 5,
   "id": "99a1cc9c-6af3-4ac9-9cb6-acd73a25d272",
   "metadata": {},
   "outputs": [],
   "source": [
    "# make a flat list out of a list of lists\n",
    "def flat(list__):\n",
    "    return [item for sublist in list__ for item in sublist]\n",
    "\n",
    "def munch_crunch_clean(df__):\n",
    "    # search for all the strings in the process historian that contains bad data\n",
    "    badpv = ['No Data','Bad Data','Bad','Intf Shut','Bad Input','I/O Timeout',\n",
    "             'Configure','Scan Off','Out of Serv','Comm Fail','','Error',\n",
    "             'Pt Created', 'Calc Failed','Invalid Float']\n",
    "    # replace those strings with null values (which we can manage easier)\n",
    "    df__ = df__.replace(to_replace=badpv,\n",
    "                        value=np.nan,\n",
    "                        inplace=False\n",
    "                        )\n",
    "    # search for empty strings using regex (not sure why above not working)\n",
    "    df__ = df__.replace(r'^\\s*$',np.nan,inplace=False,regex=True)\n",
    "    \n",
    "    # swap values over from old tags to new tags\n",
    "    for i in new_tags:\n",
    "        for k in i:\n",
    "            mask_new = df__[k].isna()\n",
    "            val = tags_dict[k]\n",
    "            df__.loc[mask_new, k] = df__.loc[mask_new, val]\n",
    "    # cut down to just the needed columns now that they have been combined\n",
    "    df__ = df__.drop(columns=flat(old_tags))\n",
    "    \n",
    "    # create unit tags list and mapping to common tags for each of the models\n",
    "    dfl = [[],[],[],[]]\n",
    "    for i in range(1,4):\n",
    "        unit_tags = ['TIMESTAMP'] + [new_tags[0][i-1]] + new_tags[i]\n",
    "        map_dict = dict(zip(unit_tags,ac))\n",
    "        dfl[i] = df__.loc[:,unit_tags].copy()\n",
    "        dfl[i].rename(columns=map_dict,inplace=True)\n",
    "        \n",
    "    # concatenate back down to a single dataframe using multiindexing\n",
    "    df__ = pd.concat([dfl[1], dfl[2], dfl[3]],\n",
    "                     keys=['Unit1','Unit2','Unit3'],\n",
    "                     names=['UNIT','CASE']\n",
    "                     )\n",
    "    \n",
    "    # convert the TIMESTAMP to datetime format\n",
    "    try:\n",
    "        df__['TIMESTAMP'] = pd.to_datetime(arg=df__.loc[:,'TIMESTAMP'],\n",
    "                                           errors='raise',\n",
    "                                           format=\"%m/%d/%Y %H:%M\"\n",
    "                                           )\n",
    "    except:\n",
    "        df__['TIMESTAMP'] = pd.to_datetime(arg=df__.loc[:,'TIMESTAMP'],\n",
    "                                           errors='coerce',\n",
    "                                           format=\"%d-%b-%y %H:%M:%S\"\n",
    "                                           )\n",
    "    # convert all sample values to float\n",
    "    df__.loc[:,ac[1:]] = df__.loc[:,ac[1:]].astype(dtype=np.float64)\n",
    "    \n",
    "    return df__"
   ]
  },
  {
   "cell_type": "code",
   "execution_count": 6,
   "id": "7b5ed0d7-3637-4a71-b137-c0495ec056df",
   "metadata": {},
   "outputs": [],
   "source": [
    "df = munch_crunch_clean(df)"
   ]
  },
  {
   "cell_type": "markdown",
   "id": "76d65ac5-c466-43dd-962f-622e4d327452",
   "metadata": {},
   "source": [
    "## Dataframe Columns Information\n",
    "| Tag (Variable) | Variable Type | Data Type | Units | Description |\n",
    "| :- | :- | :- | :- | :- |\n",
    "| **General Data** |\n",
    "| TIMESTAMP | Categorical Ordinal | datetime | Month/Day/Year Hour:Minutes | Time at observation |\n",
    "| **Generator Data** |\n",
    "| DW | Numerical Continuous | float | Megawatts (MW) | Generator Power Output |\n",
    "| CTDA1 | Numerical Continuous | float | degrees Fahrenheit (°F) | Turbine Compressor Discharge Temperature |\n",
    "| CPD | Numerical Continuous | float | pounds/inch$^2$ (psig) | Turbine Compressor Outlet Pressure |\n",
    "| AFPAP | Numerical Continuous | float | inches of mercury (inHg) | Turbine Compressor Inlet Pressure |\n",
    "| TTXC | Numerical Continuous | float | degrees Fahrenheit (°F) | Turbine Exhaust Temperature Average |\n",
    "| FG | Numerical Continuous | float | thousand scuffs per hour (mscf/h) | Fuel Gas Burned |\n",
    "| CEFF | Numerical Continuous | float | percent (%) | Compressor Efficiency |\n",
    "| AHR | Numerical Continuous | float | BTU per kWh (BTU/kWh) | Actual Heat Rate |"
   ]
  },
  {
   "cell_type": "code",
   "execution_count": 7,
   "id": "9d95bcb7-8342-44e5-9064-9d534643502b",
   "metadata": {},
   "outputs": [
    {
     "name": "stdout",
     "output_type": "stream",
     "text": [
      "<class 'pandas.core.frame.DataFrame'>\n",
      "MultiIndex: 341139 entries, ('Unit1', 0) to ('Unit3', 113712)\n",
      "Data columns (total 7 columns):\n",
      " #   Column     Non-Null Count   Dtype         \n",
      "---  ------     --------------   -----         \n",
      " 0   TIMESTAMP  341139 non-null  datetime64[ns]\n",
      " 1   DW         336043 non-null  float64       \n",
      " 2   CTDA1      339293 non-null  float64       \n",
      " 3   CPD        334421 non-null  float64       \n",
      " 4   AFPAP      338861 non-null  float64       \n",
      " 5   TTXC       337522 non-null  float64       \n",
      " 6   FG         296193 non-null  float64       \n",
      "dtypes: datetime64[ns](1), float64(6)\n",
      "memory usage: 19.8+ MB\n"
     ]
    }
   ],
   "source": [
    "df.info()"
   ]
  },
  {
   "cell_type": "code",
   "execution_count": 8,
   "id": "489f68a5-b303-406a-9d9d-40957445ed0b",
   "metadata": {},
   "outputs": [
    {
     "data": {
      "text/html": [
       "<div>\n",
       "<style scoped>\n",
       "    .dataframe tbody tr th:only-of-type {\n",
       "        vertical-align: middle;\n",
       "    }\n",
       "\n",
       "    .dataframe tbody tr th {\n",
       "        vertical-align: top;\n",
       "    }\n",
       "\n",
       "    .dataframe thead th {\n",
       "        text-align: right;\n",
       "    }\n",
       "</style>\n",
       "<table border=\"1\" class=\"dataframe\">\n",
       "  <thead>\n",
       "    <tr style=\"text-align: right;\">\n",
       "      <th></th>\n",
       "      <th></th>\n",
       "      <th>TIMESTAMP</th>\n",
       "      <th>DW</th>\n",
       "      <th>CTDA1</th>\n",
       "      <th>CPD</th>\n",
       "      <th>AFPAP</th>\n",
       "      <th>TTXC</th>\n",
       "      <th>FG</th>\n",
       "    </tr>\n",
       "    <tr>\n",
       "      <th>UNIT</th>\n",
       "      <th>CASE</th>\n",
       "      <th></th>\n",
       "      <th></th>\n",
       "      <th></th>\n",
       "      <th></th>\n",
       "      <th></th>\n",
       "      <th></th>\n",
       "      <th></th>\n",
       "    </tr>\n",
       "  </thead>\n",
       "  <tbody>\n",
       "    <tr>\n",
       "      <th rowspan=\"5\" valign=\"top\">Unit1</th>\n",
       "      <th>0</th>\n",
       "      <td>2010-01-01 00:00:00</td>\n",
       "      <td>40.906673</td>\n",
       "      <td>644.222656</td>\n",
       "      <td>161.566803</td>\n",
       "      <td>29.570610</td>\n",
       "      <td>1020.744019</td>\n",
       "      <td>NaN</td>\n",
       "    </tr>\n",
       "    <tr>\n",
       "      <th>1</th>\n",
       "      <td>2010-01-01 01:00:00</td>\n",
       "      <td>40.761490</td>\n",
       "      <td>645.698181</td>\n",
       "      <td>161.069000</td>\n",
       "      <td>29.539499</td>\n",
       "      <td>1021.780518</td>\n",
       "      <td>NaN</td>\n",
       "    </tr>\n",
       "    <tr>\n",
       "      <th>2</th>\n",
       "      <td>2010-01-01 02:00:00</td>\n",
       "      <td>40.811272</td>\n",
       "      <td>645.698181</td>\n",
       "      <td>161.566803</td>\n",
       "      <td>29.525236</td>\n",
       "      <td>1021.739014</td>\n",
       "      <td>NaN</td>\n",
       "    </tr>\n",
       "    <tr>\n",
       "      <th>3</th>\n",
       "      <td>2010-01-01 03:00:00</td>\n",
       "      <td>40.815418</td>\n",
       "      <td>645.609314</td>\n",
       "      <td>161.566803</td>\n",
       "      <td>29.538202</td>\n",
       "      <td>1021.697510</td>\n",
       "      <td>NaN</td>\n",
       "    </tr>\n",
       "    <tr>\n",
       "      <th>4</th>\n",
       "      <td>2010-01-01 04:00:00</td>\n",
       "      <td>40.661930</td>\n",
       "      <td>646.610840</td>\n",
       "      <td>161.027512</td>\n",
       "      <td>29.491720</td>\n",
       "      <td>1022.776489</td>\n",
       "      <td>NaN</td>\n",
       "    </tr>\n",
       "  </tbody>\n",
       "</table>\n",
       "</div>"
      ],
      "text/plain": [
       "                     TIMESTAMP         DW       CTDA1         CPD      AFPAP  \\\n",
       "UNIT  CASE                                                                     \n",
       "Unit1 0    2010-01-01 00:00:00  40.906673  644.222656  161.566803  29.570610   \n",
       "      1    2010-01-01 01:00:00  40.761490  645.698181  161.069000  29.539499   \n",
       "      2    2010-01-01 02:00:00  40.811272  645.698181  161.566803  29.525236   \n",
       "      3    2010-01-01 03:00:00  40.815418  645.609314  161.566803  29.538202   \n",
       "      4    2010-01-01 04:00:00  40.661930  646.610840  161.027512  29.491720   \n",
       "\n",
       "                   TTXC  FG  \n",
       "UNIT  CASE                   \n",
       "Unit1 0     1020.744019 NaN  \n",
       "      1     1021.780518 NaN  \n",
       "      2     1021.739014 NaN  \n",
       "      3     1021.697510 NaN  \n",
       "      4     1022.776489 NaN  "
      ]
     },
     "execution_count": 8,
     "metadata": {},
     "output_type": "execute_result"
    }
   ],
   "source": [
    "df.head()"
   ]
  },
  {
   "cell_type": "code",
   "execution_count": null,
   "id": "d782c39d-7906-4e38-a23a-6d24be1fd8ec",
   "metadata": {},
   "outputs": [],
   "source": []
  }
 ],
 "metadata": {
  "kernelspec": {
   "display_name": "Python [conda env:ML_cpu]",
   "language": "python",
   "name": "conda-env-ML_cpu-py"
  },
  "language_info": {
   "codemirror_mode": {
    "name": "ipython",
    "version": 3
   },
   "file_extension": ".py",
   "mimetype": "text/x-python",
   "name": "python",
   "nbconvert_exporter": "python",
   "pygments_lexer": "ipython3",
   "version": "3.10.6"
  }
 },
 "nbformat": 4,
 "nbformat_minor": 5
}
