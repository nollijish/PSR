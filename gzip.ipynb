{
 "cells": [
  {
   "cell_type": "code",
   "execution_count": 1,
   "id": "3f6961ff-3cfd-4d94-abbd-2b9ab8bdb0cc",
   "metadata": {},
   "outputs": [],
   "source": [
    "import pandas as pd\n",
    "import os\n",
    "from pathlib import Path, PureWindowsPath"
   ]
  },
  {
   "cell_type": "code",
   "execution_count": 2,
   "id": "b566a306-99a1-4f53-994e-691635293881",
   "metadata": {},
   "outputs": [],
   "source": [
    "# input directory and filename here\n",
    "filename = 'Cogen_CF_20221222-20100101.csv'\n",
    "url = Path(PureWindowsPath('C:\\\\Users\\\\woodn\\\\github\\\\datasets'))"
   ]
  },
  {
   "cell_type": "code",
   "execution_count": 3,
   "id": "ee8ec69e-7016-4af6-a304-09839d9b5e87",
   "metadata": {},
   "outputs": [],
   "source": [
    "filepath = url / filename"
   ]
  },
  {
   "cell_type": "code",
   "execution_count": 4,
   "id": "f0fdcc3e-c3ed-43eb-a14a-5e9482e2ae92",
   "metadata": {},
   "outputs": [
    {
     "data": {
      "text/plain": [
       "WindowsPath('C:/Users/woodn/github/datasets/Cogen_CF_20221222-20100101.csv')"
      ]
     },
     "execution_count": 4,
     "metadata": {},
     "output_type": "execute_result"
    }
   ],
   "source": [
    "filepath"
   ]
  },
  {
   "cell_type": "code",
   "execution_count": 5,
   "id": "29e46cb1-5af0-4716-a4af-81c172dd5f82",
   "metadata": {},
   "outputs": [],
   "source": [
    "df = pd.read_csv(filepath,\n",
    "                 on_bad_lines='warn',\n",
    "                 low_memory=False\n",
    "                )"
   ]
  },
  {
   "cell_type": "code",
   "execution_count": 6,
   "id": "5c0a65da-9d21-4621-80de-8dfbb3df3a16",
   "metadata": {},
   "outputs": [],
   "source": [
    "filename2 = filename + '.gz'\n",
    "filepath2 = url / filename2"
   ]
  },
  {
   "cell_type": "code",
   "execution_count": 7,
   "id": "691a8ca2-5421-40b4-b981-5a4149dff9d2",
   "metadata": {},
   "outputs": [
    {
     "data": {
      "text/plain": [
       "WindowsPath('C:/Users/woodn/github/datasets/Cogen_CF_20221222-20100101.csv.gz')"
      ]
     },
     "execution_count": 7,
     "metadata": {},
     "output_type": "execute_result"
    }
   ],
   "source": [
    "filepath2"
   ]
  },
  {
   "cell_type": "code",
   "execution_count": 8,
   "id": "28879110-56de-49b0-9f79-cc7a120214b2",
   "metadata": {},
   "outputs": [],
   "source": [
    "df.to_csv(filepath2,\n",
    "          index=False,\n",
    "          compression='gzip'\n",
    "         )"
   ]
  },
  {
   "cell_type": "code",
   "execution_count": 9,
   "id": "fabc9764-a377-47d1-a5d5-cb951aae51d4",
   "metadata": {},
   "outputs": [],
   "source": [
    "os.remove(filepath)"
   ]
  }
 ],
 "metadata": {
  "kernelspec": {
   "display_name": "Python [conda env:ML_cpu]",
   "language": "python",
   "name": "conda-env-ML_cpu-py"
  },
  "language_info": {
   "codemirror_mode": {
    "name": "ipython",
    "version": 3
   },
   "file_extension": ".py",
   "mimetype": "text/x-python",
   "name": "python",
   "nbconvert_exporter": "python",
   "pygments_lexer": "ipython3",
   "version": "3.10.6"
  }
 },
 "nbformat": 4,
 "nbformat_minor": 5
}
